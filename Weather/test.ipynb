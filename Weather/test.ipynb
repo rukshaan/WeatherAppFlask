{
 "cells": [
  {
   "cell_type": "code",
   "execution_count": 1,
   "metadata": {},
   "outputs": [
    {
     "name": "stdout",
     "output_type": "stream",
     "text": [
      "{\"location\":{\"name\":\"Boston\",\"region\":\"Lincolnshire\",\"country\":\"United Kingdom\",\"lat\":52.981,\"lon\":-0.013,\"tz_id\":\"Europe/London\",\"localtime_epoch\":1735623990,\"localtime\":\"2024-12-31 05:46\"},\"current\":{\"last_updated_epoch\":1735623900,\"last_updated\":\"2024-12-31 05:45\",\"temp_c\":9.3,\"temp_f\":48.7,\"is_day\":0,\"condition\":{\"text\":\"Partly cloudy\",\"icon\":\"//cdn.weatherapi.com/weather/64x64/night/116.png\",\"code\":1003},\"wind_mph\":19.9,\"wind_kph\":32.0,\"wind_degree\":235,\"wind_dir\":\"SW\",\"pressure_mb\":1019.0,\"pressure_in\":30.09,\"precip_mm\":0.0,\"precip_in\":0.0,\"humidity\":81,\"cloud\":75,\"feelslike_c\":5.5,\"feelslike_f\":41.9,\"windchill_c\":5.5,\"windchill_f\":42.0,\"heatindex_c\":9.3,\"heatindex_f\":48.7,\"dewpoint_c\":4.6,\"dewpoint_f\":40.2,\"vis_km\":10.0,\"vis_miles\":6.0,\"uv\":0.0,\"gust_mph\":31.0,\"gust_kph\":49.8}}\n"
     ]
    }
   ],
   "source": [
    "import http.client\n",
    "\n",
    "conn = http.client.HTTPSConnection(\"weatherapi-com.p.rapidapi.com\")\n",
    "\n",
    "headers = {\n",
    "    'x-rapidapi-key': \"c8c09687d4msh4c6a31dc67b5220p182ceejsn7df7c1d37d8c\",\n",
    "    'x-rapidapi-host': \"weatherapi-com.p.rapidapi.com\"\n",
    "}\n",
    "\n",
    "conn.request(\"GET\", \"/current.json?q=53.1%2C-0.13\", headers=headers)\n",
    "\n",
    "res = conn.getresponse()\n",
    "data = res.read()\n",
    "\n",
    "print(data.decode(\"utf-8\"))"
   ]
  },
  {
   "cell_type": "code",
   "execution_count": 2,
   "metadata": {},
   "outputs": [
    {
     "name": "stdout",
     "output_type": "stream",
     "text": [
      "{\"location\":{\"name\":\"London\",\"region\":\"City of London, Greater London\",\"country\":\"United Kingdom\",\"lat\":51.5171,\"lon\":-0.1062,\"tz_id\":\"Europe/London\",\"localtime_epoch\":1735626116,\"localtime\":\"2024-12-31 06:21\"},\"forecast\":{\"forecastday\":[{\"date\":\"2024-12-25\",\"date_epoch\":1735084800,\"day\":{\"maxtemp_c\":10.4,\"maxtemp_f\":50.8,\"mintemp_c\":7.3,\"mintemp_f\":45.2,\"avgtemp_c\":8.8,\"avgtemp_f\":47.8,\"maxwind_mph\":5.6,\"maxwind_kph\":9.0,\"totalprecip_mm\":0.0,\"totalprecip_in\":0.0,\"totalsnow_cm\":0.0,\"avgvis_km\":6.1,\"avgvis_miles\":3.0,\"avghumidity\":92,\"daily_will_it_rain\":0,\"daily_chance_of_rain\":0,\"daily_will_it_snow\":0,\"daily_chance_of_snow\":0,\"condition\":{\"text\":\"Fog\",\"icon\":\"//cdn.weatherapi.com/weather/64x64/day/248.png\",\"code\":1135},\"uv\":3.0},\"astro\":{\"sunrise\":\"08:05 AM\",\"sunset\":\"03:56 PM\",\"moonrise\":\"02:27 AM\",\"moonset\":\"12:21 PM\",\"moon_phase\":\"Waning Crescent\",\"moon_illumination\":31},\"hour\":[{\"time_epoch\":1735088400,\"time\":\"2024-12-25 01:00\",\"temp_c\":9.9,\"temp_f\":49.8,\"is_day\":0,\"condition\":{\"text\":\"Partly cloudy\",\"icon\":\"//cdn.weatherapi.com/weather/64x64/night/116.png\",\"code\":1003},\"wind_mph\":5.6,\"wind_kph\":9.0,\"wind_degree\":253,\"wind_dir\":\"WSW\",\"pressure_mb\":1031.0,\"pressure_in\":30.45,\"precip_mm\":0.0,\"precip_in\":0.0,\"snow_cm\":0.0,\"humidity\":90,\"cloud\":35,\"feelslike_c\":8.7,\"feelslike_f\":47.6,\"windchill_c\":8.7,\"windchill_f\":47.6,\"heatindex_c\":9.9,\"heatindex_f\":49.8,\"dewpoint_c\":8.3,\"dewpoint_f\":46.9,\"will_it_rain\":0,\"chance_of_rain\":0,\"will_it_snow\":0,\"chance_of_snow\":0,\"vis_km\":10.0,\"vis_miles\":6.0,\"gust_mph\":8.6,\"gust_kph\":13.9,\"uv\":0.0}]},{\"date\":\"2024-12-26\",\"date_epoch\":1735171200,\"day\":{\"maxtemp_c\":9.3,\"maxtemp_f\":48.7,\"mintemp_c\":6.2,\"mintemp_f\":43.2,\"avgtemp_c\":7.3,\"avgtemp_f\":45.2,\"maxwind_mph\":2.9,\"maxwind_kph\":4.7,\"totalprecip_mm\":0.0,\"totalprecip_in\":0.0,\"totalsnow_cm\":0.0,\"avgvis_km\":4.3,\"avgvis_miles\":2.0,\"avghumidity\":94,\"daily_will_it_rain\":0,\"daily_chance_of_rain\":0,\"daily_will_it_snow\":0,\"daily_chance_of_snow\":0,\"condition\":{\"text\":\"Mist\",\"icon\":\"//cdn.weatherapi.com/weather/64x64/day/143.png\",\"code\":1030},\"uv\":2.0},\"astro\":{\"sunrise\":\"08:06 AM\",\"sunset\":\"03:57 PM\",\"moonrise\":\"03:41 AM\",\"moonset\":\"12:35 PM\",\"moon_phase\":\"Waning Crescent\",\"moon_illumination\":23},\"hour\":[{\"time_epoch\":1735174800,\"time\":\"2024-12-26 01:00\",\"temp_c\":7.0,\"temp_f\":44.5,\"is_day\":0,\"condition\":{\"text\":\"Mist\",\"icon\":\"//cdn.weatherapi.com/weather/64x64/night/143.png\",\"code\":1030},\"wind_mph\":2.7,\"wind_kph\":4.3,\"wind_degree\":227,\"wind_dir\":\"SW\",\"pressure_mb\":1035.0,\"pressure_in\":30.56,\"precip_mm\":0.0,\"precip_in\":0.0,\"snow_cm\":0.0,\"humidity\":96,\"cloud\":43,\"feelslike_c\":6.6,\"feelslike_f\":43.8,\"windchill_c\":6.6,\"windchill_f\":43.8,\"heatindex_c\":7.0,\"heatindex_f\":44.5,\"dewpoint_c\":6.4,\"dewpoint_f\":43.6,\"will_it_rain\":0,\"chance_of_rain\":0,\"will_it_snow\":0,\"chance_of_snow\":0,\"vis_km\":2.0,\"vis_miles\":1.0,\"gust_mph\":5.2,\"gust_kph\":8.4,\"uv\":0.0}]},{\"date\":\"2024-12-27\",\"date_epoch\":1735257600,\"day\":{\"maxtemp_c\":9.5,\"maxtemp_f\":49.1,\"mintemp_c\":6.3,\"mintemp_f\":43.4,\"avgtemp_c\":7.9,\"avgtemp_f\":46.1,\"maxwind_mph\":2.9,\"maxwind_kph\":4.7,\"totalprecip_mm\":0.0,\"totalprecip_in\":0.0,\"totalsnow_cm\":0.0,\"avgvis_km\":10.0,\"avgvis_miles\":6.0,\"avghumidity\":85,\"daily_will_it_rain\":0,\"daily_chance_of_rain\":0,\"daily_will_it_snow\":0,\"daily_chance_of_snow\":0,\"condition\":{\"text\":\"Partly cloudy\",\"icon\":\"//cdn.weatherapi.com/weather/64x64/day/116.png\",\"code\":1003},\"uv\":3.0},\"astro\":{\"sunrise\":\"08:06 AM\",\"sunset\":\"03:58 PM\",\"moonrise\":\"04:55 AM\",\"moonset\":\"12:54 PM\",\"moon_phase\":\"Waning Crescent\",\"moon_illumination\":15},\"hour\":[{\"time_epoch\":1735261200,\"time\":\"2024-12-27 01:00\",\"temp_c\":7.8,\"temp_f\":46.1,\"is_day\":0,\"condition\":{\"text\":\"Clear\",\"icon\":\"//cdn.weatherapi.com/weather/64x64/night/113.png\",\"code\":1000},\"wind_mph\":2.2,\"wind_kph\":3.6,\"wind_degree\":271,\"wind_dir\":\"W\",\"pressure_mb\":1035.0,\"pressure_in\":30.55,\"precip_mm\":0.0,\"precip_in\":0.0,\"snow_cm\":0.0,\"humidity\":87,\"cloud\":14,\"feelslike_c\":7.8,\"feelslike_f\":46.1,\"windchill_c\":7.8,\"windchill_f\":46.1,\"heatindex_c\":7.8,\"heatindex_f\":46.1,\"dewpoint_c\":5.8,\"dewpoint_f\":42.5,\"will_it_rain\":0,\"chance_of_rain\":0,\"will_it_snow\":0,\"chance_of_snow\":0,\"vis_km\":10.0,\"vis_miles\":6.0,\"gust_mph\":3.6,\"gust_kph\":5.8,\"uv\":0.0}]},{\"date\":\"2024-12-28\",\"date_epoch\":1735344000,\"day\":{\"maxtemp_c\":9.5,\"maxtemp_f\":49.1,\"mintemp_c\":6.0,\"mintemp_f\":42.8,\"avgtemp_c\":8.1,\"avgtemp_f\":46.5,\"maxwind_mph\":4.0,\"maxwind_kph\":6.5,\"totalprecip_mm\":0.0,\"totalprecip_in\":0.0,\"totalsnow_cm\":0.0,\"avgvis_km\":10.0,\"avgvis_miles\":6.0,\"avghumidity\":89,\"daily_will_it_rain\":0,\"daily_chance_of_rain\":0,\"daily_will_it_snow\":0,\"daily_chance_of_snow\":0,\"condition\":{\"text\":\"Overcast\",\"icon\":\"//cdn.weatherapi.com/weather/64x64/day/122.png\",\"code\":1009},\"uv\":2.0},\"astro\":{\"sunrise\":\"08:06 AM\",\"sunset\":\"03:58 PM\",\"moonrise\":\"06:11 AM\",\"moonset\":\"01:21 PM\",\"moon_phase\":\"Waning Crescent\",\"moon_illumination\":9},\"hour\":[{\"time_epoch\":1735347600,\"time\":\"2024-12-28 01:00\",\"temp_c\":8.4,\"temp_f\":47.1,\"is_day\":0,\"condition\":{\"text\":\"Cloudy\",\"icon\":\"//cdn.weatherapi.com/weather/64x64/night/119.png\",\"code\":1006},\"wind_mph\":2.2,\"wind_kph\":3.6,\"wind_degree\":226,\"wind_dir\":\"SW\",\"pressure_mb\":1030.0,\"pressure_in\":30.42,\"precip_mm\":0.0,\"precip_in\":0.0,\"snow_cm\":0.0,\"humidity\":90,\"cloud\":87,\"feelslike_c\":8.5,\"feelslike_f\":47.2,\"windchill_c\":8.5,\"windchill_f\":47.2,\"heatindex_c\":8.4,\"heatindex_f\":47.1,\"dewpoint_c\":6.9,\"dewpoint_f\":44.4,\"will_it_rain\":0,\"chance_of_rain\":0,\"will_it_snow\":0,\"chance_of_snow\":0,\"vis_km\":10.0,\"vis_miles\":6.0,\"gust_mph\":3.7,\"gust_kph\":5.9,\"uv\":0.0}]},{\"date\":\"2024-12-29\",\"date_epoch\":1735430400,\"day\":{\"maxtemp_c\":8.5,\"maxtemp_f\":47.3,\"mintemp_c\":4.3,\"mintemp_f\":39.8,\"avgtemp_c\":5.9,\"avgtemp_f\":42.6,\"maxwind_mph\":7.4,\"maxwind_kph\":11.9,\"totalprecip_mm\":0.0,\"totalprecip_in\":0.0,\"totalsnow_cm\":0.0,\"avgvis_km\":7.0,\"avgvis_miles\":4.0,\"avghumidity\":92,\"daily_will_it_rain\":0,\"daily_chance_of_rain\":0,\"daily_will_it_snow\":0,\"daily_chance_of_snow\":0,\"condition\":{\"text\":\"Mist\",\"icon\":\"//cdn.weatherapi.com/weather/64x64/day/143.png\",\"code\":1030},\"uv\":2.0},\"astro\":{\"sunrise\":\"08:06 AM\",\"sunset\":\"03:59 PM\",\"moonrise\":\"07:24 AM\",\"moonset\":\"02:00 PM\",\"moon_phase\":\"Waning Crescent\",\"moon_illumination\":4},\"hour\":[{\"time_epoch\":1735434000,\"time\":\"2024-12-29 01:00\",\"temp_c\":4.9,\"temp_f\":40.8,\"is_day\":0,\"condition\":{\"text\":\"Mist\",\"icon\":\"//cdn.weatherapi.com/weather/64x64/night/143.png\",\"code\":1030},\"wind_mph\":4.0,\"wind_kph\":6.5,\"wind_degree\":249,\"wind_dir\":\"WSW\",\"pressure_mb\":1028.0,\"pressure_in\":30.35,\"precip_mm\":0.0,\"precip_in\":0.0,\"snow_cm\":0.0,\"humidity\":95,\"cloud\":33,\"feelslike_c\":3.4,\"feelslike_f\":38.2,\"windchill_c\":3.4,\"windchill_f\":38.2,\"heatindex_c\":4.9,\"heatindex_f\":40.8,\"dewpoint_c\":4.1,\"dewpoint_f\":39.5,\"will_it_rain\":0,\"chance_of_rain\":0,\"will_it_snow\":0,\"chance_of_snow\":0,\"vis_km\":2.0,\"vis_miles\":1.0,\"gust_mph\":7.2,\"gust_kph\":11.7,\"uv\":0.0}]},{\"date\":\"2024-12-30\",\"date_epoch\":1735516800,\"day\":{\"maxtemp_c\":7.6,\"maxtemp_f\":45.7,\"mintemp_c\":4.6,\"mintemp_f\":40.3,\"avgtemp_c\":5.9,\"avgtemp_f\":42.7,\"maxwind_mph\":9.6,\"maxwind_kph\":15.5,\"totalprecip_mm\":0.0,\"totalprecip_in\":0.0,\"totalsnow_cm\":0.0,\"avgvis_km\":6.4,\"avgvis_miles\":3.0,\"avghumidity\":92,\"daily_will_it_rain\":0,\"daily_chance_of_rain\":0,\"daily_will_it_snow\":0,\"daily_chance_of_snow\":0,\"condition\":{\"text\":\"Mist\",\"icon\":\"//cdn.weatherapi.com/weather/64x64/day/143.png\",\"code\":1030},\"uv\":2.0},\"astro\":{\"sunrise\":\"08:06 AM\",\"sunset\":\"04:00 PM\",\"moonrise\":\"08:25 AM\",\"moonset\":\"02:56 PM\",\"moon_phase\":\"New Moon\",\"moon_illumination\":1},\"hour\":[{\"time_epoch\":1735520400,\"time\":\"2024-12-30 01:00\",\"temp_c\":5.2,\"temp_f\":41.3,\"is_day\":0,\"condition\":{\"text\":\"Fog\",\"icon\":\"//cdn.weatherapi.com/weather/64x64/night/248.png\",\"code\":1135},\"wind_mph\":6.0,\"wind_kph\":9.7,\"wind_degree\":233,\"wind_dir\":\"SW\",\"pressure_mb\":1029.0,\"pressure_in\":30.39,\"precip_mm\":0.0,\"precip_in\":0.0,\"snow_cm\":0.0,\"humidity\":97,\"cloud\":100,\"feelslike_c\":2.9,\"feelslike_f\":37.2,\"windchill_c\":2.9,\"windchill_f\":37.2,\"heatindex_c\":5.2,\"heatindex_f\":41.3,\"dewpoint_c\":4.8,\"dewpoint_f\":40.6,\"will_it_rain\":0,\"chance_of_rain\":0,\"will_it_snow\":0,\"chance_of_snow\":0,\"vis_km\":0.0,\"vis_miles\":0.0,\"gust_mph\":11.3,\"gust_kph\":18.3,\"uv\":0.0}]},{\"date\":\"2024-12-31\",\"date_epoch\":1735603200,\"day\":{\"maxtemp_c\":11.2,\"maxtemp_f\":52.1,\"mintemp_c\":5.7,\"mintemp_f\":42.3,\"avgtemp_c\":9.4,\"avgtemp_f\":48.8,\"maxwind_mph\":21.3,\"maxwind_kph\":34.2,\"totalprecip_mm\":0.45,\"totalprecip_in\":0.02,\"totalsnow_cm\":0.0,\"avgvis_km\":9.7,\"avgvis_miles\":6.0,\"avghumidity\":75,\"daily_will_it_rain\":1,\"daily_chance_of_rain\":100,\"daily_will_it_snow\":0,\"daily_chance_of_snow\":0,\"condition\":{\"text\":\"Overcast\",\"icon\":\"//cdn.weatherapi.com/weather/64x64/day/122.png\",\"code\":1009},\"uv\":3.0},\"astro\":{\"sunrise\":\"08:06 AM\",\"sunset\":\"04:01 PM\",\"moonrise\":\"09:13 AM\",\"moonset\":\"04:07 PM\",\"moon_phase\":\"Waxing Crescent\",\"moon_illumination\":0},\"hour\":[{\"time_epoch\":1735606800,\"time\":\"2024-12-31 01:00\",\"temp_c\":5.7,\"temp_f\":42.3,\"is_day\":0,\"condition\":{\"text\":\"Partly cloudy\",\"icon\":\"//cdn.weatherapi.com/weather/64x64/night/116.png\",\"code\":1003},\"wind_mph\":7.2,\"wind_kph\":11.5,\"wind_degree\":230,\"wind_dir\":\"SW\",\"pressure_mb\":1025.0,\"pressure_in\":30.27,\"precip_mm\":0.0,\"precip_in\":0.0,\"snow_cm\":0.0,\"humidity\":90,\"cloud\":59,\"feelslike_c\":3.2,\"feelslike_f\":37.8,\"windchill_c\":3.2,\"windchill_f\":37.8,\"heatindex_c\":5.7,\"heatindex_f\":42.3,\"dewpoint_c\":4.3,\"dewpoint_f\":39.7,\"will_it_rain\":0,\"chance_of_rain\":0,\"will_it_snow\":0,\"chance_of_snow\":0,\"vis_km\":10.0,\"vis_miles\":6.0,\"gust_mph\":13.3,\"gust_kph\":21.4,\"uv\":0.0}]},{\"date\":\"2025-01-01\",\"date_epoch\":1735689600,\"day\":{\"maxtemp_c\":11.8,\"maxtemp_f\":53.2,\"mintemp_c\":4.7,\"mintemp_f\":40.5,\"avgtemp_c\":9.4,\"avgtemp_f\":49.0,\"maxwind_mph\":26.2,\"maxwind_kph\":42.1,\"totalprecip_mm\":11.78,\"totalprecip_in\":0.46,\"totalsnow_cm\":0.0,\"avgvis_km\":9.0,\"avgvis_miles\":5.0,\"avghumidity\":80,\"daily_will_it_rain\":1,\"daily_chance_of_rain\":100,\"daily_will_it_snow\":0,\"daily_chance_of_snow\":0,\"condition\":{\"text\":\"Moderate rain\",\"icon\":\"//cdn.weatherapi.com/weather/64x64/day/302.png\",\"code\":1189},\"uv\":3.0},\"astro\":{\"sunrise\":\"08:06 AM\",\"sunset\":\"04:02 PM\",\"moonrise\":\"09:47 AM\",\"moonset\":\"05:30 PM\",\"moon_phase\":\"Waxing Crescent\",\"moon_illumination\":1},\"hour\":[{\"time_epoch\":1735693200,\"time\":\"2025-01-01 01:00\",\"temp_c\":11.3,\"temp_f\":52.3,\"is_day\":0,\"condition\":{\"text\":\"Overcast\",\"icon\":\"//cdn.weatherapi.com/weather/64x64/night/122.png\",\"code\":1009},\"wind_mph\":20.1,\"wind_kph\":32.4,\"wind_degree\":225,\"wind_dir\":\"SW\",\"pressure_mb\":1013.0,\"pressure_in\":29.91,\"precip_mm\":0.0,\"precip_in\":0.0,\"snow_cm\":0.0,\"humidity\":79,\"cloud\":100,\"feelslike_c\":8.1,\"feelslike_f\":46.6,\"windchill_c\":8.1,\"windchill_f\":46.6,\"heatindex_c\":11.3,\"heatindex_f\":52.3,\"dewpoint_c\":7.9,\"dewpoint_f\":46.1,\"will_it_rain\":0,\"chance_of_rain\":0,\"will_it_snow\":0,\"chance_of_snow\":0,\"vis_km\":10.0,\"vis_miles\":6.0,\"gust_mph\":29.1,\"gust_kph\":46.8,\"uv\":0.0}]}]}}\n"
     ]
    }
   ],
   "source": [
    "import http.client\n",
    "\n",
    "conn = http.client.HTTPSConnection(\"weatherapi-com.p.rapidapi.com\")\n",
    "\n",
    "headers = {\n",
    "    'x-rapidapi-key': \"c8c09687d4msh4c6a31dc67b5220p182ceejsn7df7c1d37d8c\",\n",
    "    'x-rapidapi-host': \"weatherapi-com.p.rapidapi.com\"\n",
    "}\n",
    "\n",
    "conn.request(\"GET\", \"/history.json?q=London&lang=en&hour=1&dt=2024-12-25&end_dt=2025-12-31\", headers=headers)\n",
    "\n",
    "res = conn.getresponse()\n",
    "data = res.read()\n",
    "\n",
    "print(data.decode(\"utf-8\"))"
   ]
  },
  {
   "cell_type": "code",
   "execution_count": 1,
   "metadata": {},
   "outputs": [
    {
     "name": "stdout",
     "output_type": "stream",
     "text": [
      "{\"error\":{\"code\":1008,\"message\":\"API key is limited to get history data. Please check our pricing page and upgrade to higher plan.\"}}\n"
     ]
    }
   ],
   "source": [
    "import http.client\n",
    "\n",
    "conn = http.client.HTTPSConnection(\"weatherapi-com.p.rapidapi.com\")\n",
    "\n",
    "headers = {\n",
    "    'x-rapidapi-key': \"c8c09687d4msh4c6a31dc67b5220p182ceejsn7df7c1d37d8c\",\n",
    "    'x-rapidapi-host': \"weatherapi-com.p.rapidapi.com\"\n",
    "}\n",
    "\n",
    "conn.request(\"GET\", \"/history.json?q=London&lang=en&dt=2024-12-25&end_dt=2024-12-31\", headers=headers)\n",
    "\n",
    "res = conn.getresponse()\n",
    "data = res.read()\n",
    "\n",
    "print(data.decode(\"utf-8\"))"
   ]
  }
 ],
 "metadata": {
  "kernelspec": {
   "display_name": "flask_env",
   "language": "python",
   "name": "python3"
  },
  "language_info": {
   "codemirror_mode": {
    "name": "ipython",
    "version": 3
   },
   "file_extension": ".py",
   "mimetype": "text/x-python",
   "name": "python",
   "nbconvert_exporter": "python",
   "pygments_lexer": "ipython3",
   "version": "3.12.3"
  }
 },
 "nbformat": 4,
 "nbformat_minor": 2
}
